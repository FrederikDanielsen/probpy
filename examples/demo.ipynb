{
 "cells": [
  {
   "cell_type": "code",
   "execution_count": 1,
   "metadata": {},
   "outputs": [],
   "source": [
    "# demo.py\n",
    "\n",
    "from probpy.core import StochasticVariable, probability, delete, set_random_seed\n",
    "from probpy.distributions import NormalDistribution, ExponentialDistribution, DiscreteUniformDistribution\n",
    "from probpy.plots import plot_distribution, plot_dependency_graph\n",
    "\n",
    "# Preparation\n",
    "\n",
    "StochasticVariable.delete_all_instances()\n"
   ]
  },
  {
   "cell_type": "code",
   "execution_count": null,
   "metadata": {},
   "outputs": [],
   "source": [
    "\n",
    "A = Stochas"
   ]
  }
 ],
 "metadata": {
  "kernelspec": {
   "display_name": "Python 3",
   "language": "python",
   "name": "python3"
  },
  "language_info": {
   "codemirror_mode": {
    "name": "ipython",
    "version": 3
   },
   "file_extension": ".py",
   "mimetype": "text/x-python",
   "name": "python",
   "nbconvert_exporter": "python",
   "pygments_lexer": "ipython3",
   "version": "3.13.0"
  }
 },
 "nbformat": 4,
 "nbformat_minor": 2
}
